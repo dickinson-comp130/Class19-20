{
 "cells": [
  {
   "cell_type": "markdown",
   "metadata": {},
   "source": [
    "# Class 19-20 - Incremental Development, Debugging & Testing\n",
    "**COMP130 - Introduction to Computing**  \n",
    "**Dickinson College**  "
   ]
  },
  {
   "cell_type": "markdown",
   "metadata": {},
   "source": [
    "### Names:"
   ]
  },
  {
   "cell_type": "markdown",
   "metadata": {},
   "source": []
  },
  {
   "cell_type": "markdown",
   "metadata": {},
   "source": [
    "### Incremental Development\n",
    "\n",
    "The questions for today will have you apply the ideas of incremental development and debugging to simulations for a few die rolling games. The questions follow the same form as the examples in the __IncDevDebugTestExamples.ipynb__ notebook so you may want to use those examples to guide you."
   ]
  },
  {
   "cell_type": "markdown",
   "metadata": {},
   "source": [
    "### The \"Beat That\" Game\n",
    "\n",
    "[Beat That](https://kidshopeusa.org/beat-that-math-dice-game/) is kids game played with two six-sided die.  A player rolls the two die and then orders the numbers to make the largest number possible.  For example, with a roll of 3 and 5 the die could be ordered as 35 or as 53, so they would be ordered as 53 to make the larger number.  Similarly a roll of 2 and 6 would be ordered to make 62. Two players then take turns rolling for some number of turns. A total is kept for each player and the player with the highest total across all of the turns is the winner.\n",
    "\n",
    "In this series of questions you will design a program that plays the Beat That game for two players.  The output from your game might look something like:\n",
    "```\n",
    "BEAT THAT!\n",
    "How many turns: 2\n",
    "\n",
    "Player 1 rolls 32\n",
    "Player 2 rolls 61\n",
    "Player 2 is ahead 61 to 32.\n",
    "\n",
    "Player 1 rolls 53\n",
    "Player 2 rolls 21\n",
    "Player 1 is ahead 85 to 82.\n",
    "\n",
    "Player 1 wins!\n",
    "```"
   ]
  },
  {
   "cell_type": "markdown",
   "metadata": {},
   "source": [
    "### Sketching It Out"
   ]
  },
  {
   "cell_type": "markdown",
   "metadata": {},
   "source": [
    "Below is a partial *Sketch* for a \"Beat That\" game.  Review this sketch and think about how it relates to the game.  Then answer the questions below."
   ]
  },
  {
   "cell_type": "code",
   "execution_count": 7,
   "metadata": {
    "deletable": false,
    "editable": false
   },
   "outputs": [
    {
     "name": "stdout",
     "output_type": "stream",
     "text": [
      "BEAT THAT!\n",
      "How many turns? 3\n"
     ]
    }
   ],
   "source": [
    "print('BEAT THAT!')\n",
    "turns = int(input('How many turns? '))\n",
    "\n",
    "p1_total=0\n",
    "p2_total=0\n",
    "\n",
    "# Need to loop for number of turns\n",
    "\n",
    "p1_roll=52  # Need a function to generate a roll...\n",
    "p2_roll=31  # Need a function to generate a roll...\n",
    "\n",
    "# Print the rolls...\n",
    "\n",
    "# Add the rolls to the totals...\n",
    "\n",
    "# Need a function that will print the current leader...\n",
    "\n",
    "# Print out the winner..."
   ]
  },
  {
   "cell_type": "markdown",
   "metadata": {},
   "source": [
    "__Q1:__ What variable holds the number of rolls that each player will get during the game?"
   ]
  },
  {
   "cell_type": "markdown",
   "metadata": {},
   "source": []
  },
  {
   "cell_type": "markdown",
   "metadata": {},
   "source": [
    "__Q2:__ What variable will hold the total score for player 1? For player 2?"
   ]
  },
  {
   "cell_type": "markdown",
   "metadata": {},
   "source": []
  },
  {
   "cell_type": "markdown",
   "metadata": {},
   "source": [
    "__Q3:__ Placeholder values were put into the variables for each player's current roll.  What two die values did player 1 roll?  Player 2?"
   ]
  },
  {
   "cell_type": "markdown",
   "metadata": {},
   "source": []
  },
  {
   "cell_type": "markdown",
   "metadata": {},
   "source": [
    "Some of the comments in the above *sketch* can be readily turned into Python statements while others are a little more complicated and will best be done with functions. The comments indicate which is which. "
   ]
  },
  {
   "cell_type": "markdown",
   "metadata": {},
   "source": [
    "__Q4:__ Copy the above program into a new code cell and fill in the statements `Print the rolls...`\n",
    "\n",
    "Remember that you are practicing *incremental development* so be sure to run your program after this change to be sure it still works as expected before going on."
   ]
  },
  {
   "cell_type": "code",
   "execution_count": null,
   "metadata": {},
   "outputs": [],
   "source": []
  },
  {
   "cell_type": "markdown",
   "metadata": {},
   "source": [
    "__Q5:__ Copy your program from __Q4__ into the cell below and fill in the statements `# Add the rolls to the totals...`\n",
    "\n",
    "Remember that you are practicing *incremental development* so be sure to run your program after this change to be sure it still works as expected before going on."
   ]
  },
  {
   "cell_type": "code",
   "execution_count": null,
   "metadata": {},
   "outputs": [],
   "source": []
  },
  {
   "cell_type": "markdown",
   "metadata": {},
   "source": [
    "__Q6:__ Copy your program from __Q5__ into the cell below and fill in the statements `# Print out the winner...`\n",
    "\n",
    "Remember that you are practicing *incremental development* so be sure to run your program after this change to be sure it still works as expected before going on."
   ]
  },
  {
   "cell_type": "code",
   "execution_count": null,
   "metadata": {},
   "outputs": [],
   "source": []
  },
  {
   "cell_type": "markdown",
   "metadata": {},
   "source": [
    "__Q7:__ Copy your program from __Q6__ into the cell below and modify the code so that `# Need to loop for number of turns` is accomplished.  After this change:\n",
    "- the program should run for the specified number of turns\n",
    "- the players will roll the same fixed values each turn\n",
    "- the correct winner should be displayed.\n",
    "\n",
    "Remember that you are practicing incremental development so be sure to run your program after this change to be sure it still works as expected before going on."
   ]
  },
  {
   "cell_type": "markdown",
   "metadata": {},
   "source": [
    "### Writing the Roll Function"
   ]
  },
  {
   "cell_type": "markdown",
   "metadata": {},
   "source": [
    "__Q8:__ Copy your program from __Q7__ into the cell below and write a *stub* for the function that will roll the die.  Your function should have a *clean interface*.  We are practicing incremental development, so the stub should simply return a fixed value at this point.  Add calls to your stub function in the appropriate place in the main program.\n",
    "\n",
    "Remember that you are practicing incremental development so be sure to run your program after this change to be sure it still works as expected before going on."
   ]
  },
  {
   "cell_type": "code",
   "execution_count": null,
   "metadata": {},
   "outputs": [],
   "source": []
  },
  {
   "cell_type": "markdown",
   "metadata": {},
   "source": [
    "__Q9:__ Because the die rolling function always returns the same result (for now) the players will tie.  If your program in __Q8__ does not properly report that the game was a tie, copy your program from __Q8__ into the cell below and fix the code for printing the winner so that it handles ties."
   ]
  },
  {
   "cell_type": "code",
   "execution_count": null,
   "metadata": {},
   "outputs": [],
   "source": []
  },
  {
   "cell_type": "markdown",
   "metadata": {},
   "source": [
    "__Q10:__ Copy your program from __Q9__ (or __Q8__ if you didn't need to do __Q9__) into the cell below and add to your stub function so that it simulates the rolling of two six-sided die.  We are practicing incremental development, so do not yet worrying about rearranging the rolls to get the larger of the two possible values (i.e. a roll of 26 is fine for now). Also, add *scaffolding* that prints the result of the roll just before returning it return it.\n",
    "\n",
    "Remember that you are practicing incremental development so be sure to run your program after this change to be sure it still works as expected before going on.  In particular check that different values are now generated for each roll."
   ]
  },
  {
   "cell_type": "code",
   "execution_count": null,
   "metadata": {},
   "outputs": [],
   "source": []
  },
  {
   "cell_type": "markdown",
   "metadata": {},
   "source": [
    "__Q11:__ Copy your program from __Q10__ into the cell below and complete your die rolling function so that correctly returns the larger of the two possible values (i.e. rolling a 2 and a 5 results in 52, no matter if the first or second die is the 5).\n",
    "\n",
    "Remember that you are practicing incremental development so be sure to run your program after this change to be sure it still works as expected before going on. In particular check that every roll is now the larger value."
   ]
  },
  {
   "cell_type": "code",
   "execution_count": null,
   "metadata": {},
   "outputs": [],
   "source": []
  },
  {
   "cell_type": "markdown",
   "metadata": {},
   "source": [
    "### Writing the Print Leader Function"
   ]
  },
  {
   "cell_type": "markdown",
   "metadata": {},
   "source": [
    "__Q12:__ Copy your program from Q11 into the cell below and write a function *stub* for a function that will print the winner.  The stub should have a *clean interface* that accepts the necessary parameters and have *scaffolding* that prints them out.  Also put a call to your function stub into the main program at the appropriate spot. \n",
    "\n",
    "Remember that you are practicing incremental development so be sure to run your program after this change to be sure it still works as expected before going on. In particular check that the correct values are being printed from the stub for each turn."
   ]
  },
  {
   "cell_type": "code",
   "execution_count": null,
   "metadata": {},
   "outputs": [],
   "source": []
  },
  {
   "cell_type": "markdown",
   "metadata": {},
   "source": [
    "__Q13:__ Copy your program from __Q12__ into the cell below and complete the function for printing the leader and the scores.  Your function should now print a line like `Player 2 is ahead 61 to 32.`. \n",
    "\n",
    "Remember that you are practicing incremental development so be sure to run your program after this change to be sure it still works as expected before going on. At this point the program should be completely functional!"
   ]
  },
  {
   "cell_type": "code",
   "execution_count": null,
   "metadata": {},
   "outputs": [],
   "source": []
  },
  {
   "cell_type": "markdown",
   "metadata": {},
   "source": [
    "__Q14:__ Copy your program from Q13 into the cell below and remove all of the scaffolding code so that the program runs and only displays output that is part of the game.  In addition, refactor your program to improve its readability.  Consider using blank lines, comments, doc strings and descriptive names."
   ]
  },
  {
   "cell_type": "code",
   "execution_count": null,
   "metadata": {},
   "outputs": [],
   "source": []
  },
  {
   "cell_type": "markdown",
   "metadata": {},
   "source": [
    "Congratulations on the completion of your first *incremental development* experience!!"
   ]
  },
  {
   "cell_type": "markdown",
   "metadata": {},
   "source": [
    "### Going to Boston - Extra Optional Challenge"
   ]
  },
  {
   "cell_type": "markdown",
   "metadata": {},
   "source": [
    "[Going to Boston](http://www.dice-play.com/Games/GoingToBoston.htm) is another two player dice game.  In this two player play a number of rounds.  Each player gets a turn in each round.  A player's turn consists of:\n",
    "- rolling 3 die and keeping the largest value\n",
    "- rolling 2 die and keeping the largest value\n",
    "- rolling 1 die\n",
    "The player's score for the round is the sum of the three values obtained. The player with the larger score wins the round. The player that wins the most rounds, wins the game.\n",
    "\n",
    "Use *incremental development* to write a program __in a file named `boston.py`__ that:\n",
    "- Prompts for the number of rounds.\n",
    "- Plays that number of rounds.\n",
    "- Prints the winner. \n",
    "\n",
    "The output from the program might appear like:\n",
    "```\n",
    "GOING TO BOSTON!\n",
    "How many turns: 2\n",
    "\n",
    "Player 1 rolls 6 4 1\n",
    "Player 2 rolls 5 5 4\n",
    "Player 2 is ahead 1 to 0.\n",
    "\n",
    "Player 1 rolls 4 1 2\n",
    "Player 2 rolls 2 6 1\n",
    "Player 2 is ahead 2 to 0.\n",
    "\n",
    "Player 2 wins!\n",
    "```\n",
    "\n",
    "While you should use incremental development for this challenge, it is not necessary for you to show each step as you did in the prior questions.  It is only required that the final product appear in the the `boston.py` file.  The resulting program should reflect good design practices (readability, encapsulation, generalization, clean interfaces)."
   ]
  },
  {
   "cell_type": "markdown",
   "metadata": {},
   "source": [
    "![Stop sign](stop.png)\n",
    "End of Class 19 material."
   ]
  },
  {
   "cell_type": "markdown",
   "metadata": {},
   "source": [
    "### Automated Tests"
   ]
  },
  {
   "cell_type": "markdown",
   "metadata": {},
   "source": [
    "Consider the following function that might be useful in a weather app.  It returns the name of an icon to show based on the likelihood of rain. (Note: This program has an intentional error in it. If you see it already... just play along)."
   ]
  },
  {
   "cell_type": "code",
   "execution_count": 18,
   "metadata": {
    "deletable": false,
    "editable": false
   },
   "outputs": [],
   "source": [
    "def get_weather_icon(pct_rain):\n",
    "    \"\"\" Given the percent chance of rain as an integer (e.g. 75 is 75%), \n",
    "    return the name of the icon to be displayed.\n",
    "    \"\"\"\n",
    "    if pct_rain <= 10:\n",
    "        return 'fullsun.ico'\n",
    "    elif pct_rain <= 20:\n",
    "        return 'suncloud.ico'\n",
    "    elif pct_rain <= 85: \n",
    "        return 'twodrops.ico'\n",
    "    elif pct_rain <= 50:\n",
    "        return 'onedrop.ico'\n",
    "    else:\n",
    "        return 'pouring.ico'"
   ]
  },
  {
   "cell_type": "markdown",
   "metadata": {},
   "source": [
    "__Q15:__ What icon name is returned if there is a:\n",
    "- 15% chance of rain? \n",
    "- 90% chance of rain? "
   ]
  },
  {
   "cell_type": "code",
   "execution_count": null,
   "metadata": {},
   "outputs": [],
   "source": []
  },
  {
   "cell_type": "markdown",
   "metadata": {},
   "source": []
  },
  {
   "cell_type": "markdown",
   "metadata": {},
   "source": [
    "__Q16:__ For what range of `pct_rain` values that will result in the icon `fullsun.ico`?"
   ]
  },
  {
   "cell_type": "code",
   "execution_count": null,
   "metadata": {},
   "outputs": [],
   "source": []
  },
  {
   "cell_type": "markdown",
   "metadata": {},
   "source": [
    "__Q17:__ Run the test below to confirm that it passes.  Add additional tests to the cell below that check that the proper icon is returned for:\n",
    "- 15% chance of rain\n",
    "- 75% chance of rain\n",
    "- 95% chance of rain\n",
    "\n",
    "Run your tests to confirm that they all pass."
   ]
  },
  {
   "cell_type": "code",
   "execution_count": 22,
   "metadata": {},
   "outputs": [
    {
     "name": "stdout",
     "output_type": "stream",
     "text": [
      "Success!\n"
     ]
    }
   ],
   "source": [
    "assert get_weather_icon(5)=='fullsun.ico', 'should be fully sunny'\n",
    "print('Success!')"
   ]
  },
  {
   "cell_type": "markdown",
   "metadata": {},
   "source": [
    "__Q18:__ Copy your tests from __Q17__ and add another one that checks that the `onedrop.ico` is returned when there is a 55% chance of rain."
   ]
  },
  {
   "cell_type": "code",
   "execution_count": null,
   "metadata": {},
   "outputs": [],
   "source": []
  },
  {
   "cell_type": "markdown",
   "metadata": {},
   "source": [
    "__Q19:__ One of your tests in __Q18__ should fail.  How can you tell from the output which test has failed?"
   ]
  },
  {
   "cell_type": "markdown",
   "metadata": {},
   "source": []
  },
  {
   "cell_type": "markdown",
   "metadata": {},
   "source": [
    "__Q20:__ Copy the `get_weather_icon` function into the code cell below and correct the bug so that all of the tests in __Q18__ pass.  Note, that if you run the cell each time you edit the function below you will be able to re-run the tests in __Q18__."
   ]
  },
  {
   "cell_type": "code",
   "execution_count": null,
   "metadata": {},
   "outputs": [],
   "source": []
  },
  {
   "cell_type": "markdown",
   "metadata": {},
   "source": [
    "### Testing Edge (boundary) Cases"
   ]
  },
  {
   "cell_type": "markdown",
   "metadata": {},
   "source": [
    "Consider the following implementation of a `get_price` function:"
   ]
  },
  {
   "cell_type": "code",
   "execution_count": 25,
   "metadata": {
    "deletable": false,
    "editable": false
   },
   "outputs": [],
   "source": [
    "def get_price(age):\n",
    "    if age <= 11:\n",
    "        return 5.0\n",
    "    elif (age > 12) and (age < 18):\n",
    "        return 7.0\n",
    "    else:\n",
    "        return 10.0"
   ]
  },
  {
   "cell_type": "markdown",
   "metadata": {},
   "source": [
    "__Q21:__ The tests you wrote above for the `get_weather_icon` function were *normal cases*.  When writing test cases it is good to also include tests for any *edge (or boundary) cases*.  These tests check the specific values where the behavior of the function changes.  \n",
    "\n",
    "The above function is supposed to have prices of:\n",
    "- 5.00 for children (11 or younger)\n",
    "- 7.00 for students (from 12 to 17 inclusive)\n",
    "- 10.00 for adults (18 and over)\n",
    "\n",
    "Write tests for `get_price` below that check that the price is correct for the edge case values of (11, 12, 17, 18).  \n",
    "\n",
    "Note: If you do this correctly, one of your test cases should fail."
   ]
  },
  {
   "cell_type": "code",
   "execution_count": null,
   "metadata": {},
   "outputs": [],
   "source": []
  },
  {
   "cell_type": "markdown",
   "metadata": {},
   "source": [
    "__Q22:__ Copy the `get_price` function from above into the code cell below and fix the error that was uncovered by your tests.  Then rerun your tests in __Q21__ to confirm that they pass."
   ]
  },
  {
   "cell_type": "code",
   "execution_count": null,
   "metadata": {},
   "outputs": [],
   "source": []
  },
  {
   "cell_type": "markdown",
   "metadata": {},
   "source": [
    "__Q23:__ What are the *edge case* values for your fixed `get_weather_icon` function in __Q20__?  You do not have to write test cases for them, just identify them."
   ]
  },
  {
   "cell_type": "markdown",
   "metadata": {},
   "source": []
  },
  {
   "cell_type": "markdown",
   "metadata": {},
   "source": [
    "### Guardians"
   ]
  },
  {
   "cell_type": "markdown",
   "metadata": {},
   "source": [
    "Consider the `percent_error` function below that compute the percentage error in a measurement.  This function contains *guardians* that check that the function's *preconditions* hold."
   ]
  },
  {
   "cell_type": "code",
   "execution_count": 29,
   "metadata": {
    "deletable": false,
    "editable": false
   },
   "outputs": [],
   "source": [
    "def percent_error(accepted_value, observed_value):\n",
    "    assert isinstance(accepted_value,float), 'accepted value must be a number'\n",
    "    assert isinstance(observed_value,float), 'observed value must be a number'\n",
    "    assert accepted_value != 0, 'accepted value cannot be 0'\n",
    "                  \n",
    "    numerator = math.abs(observed_value - accepted_value)\n",
    "    pct_error = numerator / accepted_value\n",
    "    \n",
    "    return pct_error"
   ]
  },
  {
   "cell_type": "markdown",
   "metadata": {},
   "source": [
    "__Q24:__ What data types are allowed for the parameters of `percent_error`?"
   ]
  },
  {
   "cell_type": "code",
   "execution_count": null,
   "metadata": {},
   "outputs": [],
   "source": []
  },
  {
   "cell_type": "markdown",
   "metadata": {},
   "source": [
    "__Q25:__ What value is disallowed in a call to `percent_error`? Why?"
   ]
  },
  {
   "cell_type": "code",
   "execution_count": null,
   "metadata": {},
   "outputs": [],
   "source": []
  },
  {
   "cell_type": "markdown",
   "metadata": {},
   "source": [
    "__Q26:__ Copy the `get_price` function from earlier to the code cell below and add appropriate *guardians* to the function for both the data type and the value of `age`. "
   ]
  },
  {
   "cell_type": "code",
   "execution_count": null,
   "metadata": {},
   "outputs": [],
   "source": []
  },
  {
   "cell_type": "markdown",
   "metadata": {},
   "source": [
    "### Refactoring with Automated Tests"
   ]
  },
  {
   "cell_type": "markdown",
   "metadata": {},
   "source": [
    "Having automated tests are really helpful when refactoring code because they allow you to retest the code quickly and easily after each test. This section will give you some experience with this use of automated tests. \n",
    "\n",
    "Consider the `sum_one_to_n` function below, written by a programmer with a propensity for excessively long variable names."
   ]
  },
  {
   "cell_type": "code",
   "execution_count": 3,
   "metadata": {
    "deletable": false,
    "editable": false
   },
   "outputs": [],
   "source": [
    "def sum_one_to_n(n):\n",
    "    assert isinstance(n,int), 'n must be an integer'\n",
    "    assert n>=1, 'n must be positive'\n",
    "    \n",
    "    sum_of_number_one_to_n=0\n",
    "    the_number_to_add_to_sum=1\n",
    "    for num in range(n):\n",
    "        sum_of_number_one_to_n = sum_of_number_one_to_n + the_number_to_add_to_sum\n",
    "        the_number_to_add_to_sum = the_number_to_add_to_sum + 1\n",
    "        \n",
    "    return sum_of_number_one_to_n"
   ]
  },
  {
   "cell_type": "markdown",
   "metadata": {},
   "source": [
    "Though this programmer uses names that are too long, he or she has been thorough and created the following set of automated tests for the function:"
   ]
  },
  {
   "cell_type": "code",
   "execution_count": 11,
   "metadata": {
    "deletable": false,
    "editable": false
   },
   "outputs": [
    {
     "name": "stdout",
     "output_type": "stream",
     "text": [
      "Success!\n"
     ]
    }
   ],
   "source": [
    "assert sum_one_to_n(1)==1, 'n=1 is incorrect'\n",
    "assert sum_one_to_n(2)==3, 'n=2 is incorrect'\n",
    "assert sum_one_to_n(10)==55, 'n=10 is incorrect'\n",
    "assert sum_one_to_n(100000000)==5000000050000000, 'n=100000000 is incorrect'\n",
    "print('Success!')"
   ]
  },
  {
   "cell_type": "markdown",
   "metadata": {},
   "source": [
    "__Q27:__ Copy the `sum_one_to_n` function into the code cell below and refactor it for better readability by choosing shorter but still meaningful variable names. Then re-run the automated tests to ensure that you didn't make any mistakes."
   ]
  },
  {
   "cell_type": "code",
   "execution_count": null,
   "metadata": {},
   "outputs": [],
   "source": []
  },
  {
   "cell_type": "markdown",
   "metadata": {},
   "source": [
    "__Q28:__ The guardian for n being positive works correctly, but some might argue that a check for positive would be more clear if it just checks if the value is greater than 0.  Copy your `sum_one_to_n` function from __Q27__ into the code cell below and refactor it for better readability by changing the guardian. Then re-run the automated tests to ensure that you didn't make any mistakes."
   ]
  },
  {
   "cell_type": "code",
   "execution_count": null,
   "metadata": {},
   "outputs": [],
   "source": []
  },
  {
   "cell_type": "markdown",
   "metadata": {},
   "source": [
    "__Q29:__ You might have noticed that running the test cases takes a little while.  That is because of the big test case for `n=100000000`.  That is a lot of time to go around the `for` loop.  It turns out that the formula below, [attrivuted to Gauss (1777-1855)](https://betterexplained.com/articles/techniques-for-adding-the-numbers-1-to-100/), computes this sum much more efficiently without any need for a loop:\n",
    "\n",
    "$sum = \\frac{n \\cdot (n+1)}{2}$\n",
    "\n",
    "Copy your `sum_one_to_n` function from __Q28__ to the code cell below, take out the loop and compute the sum using the formula above. \n",
    "\n",
    "Then re-run the automated tests to ensure that this new approach still gets the correct answers.  Also be sure to notice how much faster it is!!"
   ]
  },
  {
   "cell_type": "code",
   "execution_count": null,
   "metadata": {},
   "outputs": [],
   "source": []
  },
  {
   "cell_type": "markdown",
   "metadata": {},
   "source": [
    "### Refactor Sum `low` to `high` - Extra Optional Challenge"
   ]
  },
  {
   "cell_type": "markdown",
   "metadata": {},
   "source": [
    "The `sum_range` function from the __IncDevDebugTestExamples.ipynb__ notebook suffers from the same inefficiency as the `sum_one_to_n` function above.  Copy the final version of the `sum_range` function from the __IncDevDebugTestExamples.ipynb__ and its automated tests and paste them below. Add the big slow test from above to the test for `sum_range`, modifying it appropriately, and confirm that it passes and is still slow!\n",
    "\n",
    "\n",
    "Now refactor the `sum_range` function using the `sum_one_to_n` function from __Q29__.  Use the automated tests to confirm that your refactoring is correct and that `sum_range` is now much faster for big numbers."
   ]
  }
 ],
 "metadata": {
  "kernelspec": {
   "display_name": "Python 3",
   "language": "python",
   "name": "python3"
  },
  "language_info": {
   "codemirror_mode": {
    "name": "ipython",
    "version": 3
   },
   "file_extension": ".py",
   "mimetype": "text/x-python",
   "name": "python",
   "nbconvert_exporter": "python",
   "pygments_lexer": "ipython3",
   "version": "3.7.3"
  }
 },
 "nbformat": 4,
 "nbformat_minor": 2
}
