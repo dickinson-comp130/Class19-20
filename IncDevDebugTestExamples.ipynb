{
 "cells": [
  {
   "cell_type": "markdown",
   "metadata": {},
   "source": [
    "# Class 19-20 - Incremental Development, Debugging & Testing Examples\n",
    "**COMP130 - Introduction to Computing**  \n",
    "**Dickinson College**  "
   ]
  },
  {
   "cell_type": "markdown",
   "metadata": {},
   "source": [
    "As programs and functions become more complex following an *incremental development* process is an effective way to avoid long tedious debugging sessions.  When doing *incremental development* you make only small changes or add only a little bit of code at a time to a working program.  The goal is to keep the program working at all times. If the program stops working and you have only added a little bit of code or made a small change it will *typically* be fairly easy to identify where the problem is.  If you have made tons of changes or added a lot of code, finding a bug will be much more difficult.\n",
    "\n",
    "The examples below walk through illustrate an *incremental development* process for one small example.  The steps shown here will be:\n",
    "\n",
    "- Sketch the program and identify functions\n",
    "- Write a *stub* for the function and call it with *dummy arguments*\n",
    "- Expand and hand test the function\n",
    "  - Debug, adding *scaffold* as necessary\n",
    "  - Iterate\n",
    "- Produce *automated tests* for the function\n",
    "- Add *Guardians*\n",
    "- Improve (refactor) the function\n",
    "  - Readability, Composition, Encapsulation, Generalization, Efficiency\n",
    "\n",
    "In class we will work through the process in one cell. For your reference each subsequent cell below shows the next step of the process.\n",
    "\n",
    "This is not a strict process.  You will find that as you write programs, sometimes you can skip parts of it, sometimes you'll want to do some steps multiple times.  What is important is that you know what the steps are so that when you run into trouble you have strategies for figuring out what is going on and how to fix it."
   ]
  },
  {
   "cell_type": "markdown",
   "metadata": {},
   "source": [
    "### Summing a Range of Numbers\n",
    "\n",
    "The problem to be solved is to compute the sum of all of the integers in a specified range of values."
   ]
  },
  {
   "cell_type": "markdown",
   "metadata": {},
   "source": [
    "### Sketch it\n",
    "\n",
    "Just produce a rough outline of the program and in the process identify *nameable units of work* that you can encapsulate into functions. Note that the program will not generate the correct answer yet, but we know that what we have works. So if there is a problem later, we know it is not with this code."
   ]
  },
  {
   "cell_type": "code",
   "execution_count": null,
   "metadata": {},
   "outputs": [],
   "source": [
    "low = int(input(\"Enter the low value: \"))\n",
    "high = int(input(\"Enter the high value: \"))\n",
    "\n",
    "# Need a function that takes low and high and computes the sum.\n",
    "sum = 0\n",
    "\n",
    "print(\"The sum from \" + str(low) + \" to \" + str(high) + \" is \" + str(sum))"
   ]
  },
  {
   "cell_type": "markdown",
   "metadata": {},
   "source": [
    "### Write a Stub for the Function and Call it with Dummy Values\n",
    "\n",
    "A function *stub* defines the function, names it, gives the parameter list and returns a *dummy value*.  Often it will also print out the values of the parameters just to be sure they are correct during the testing phase."
   ]
  },
  {
   "cell_type": "code",
   "execution_count": null,
   "metadata": {},
   "outputs": [],
   "source": [
    "def range_sum(low, high):\n",
    "    print(\"low=\" + str(low) + \" high=\" + str(high))\n",
    "    return -1\n",
    "\n",
    "# Main program below\n",
    "\n",
    "low = int(input(\"Enter the low value: \"))\n",
    "high = int(input(\"Enter the high value: \"))\n",
    "\n",
    "sum = range_sum(low, high)\n",
    "\n",
    "print(\"The sum from \" + str(low) + \" to \" + str(high) + \" is \" + str(sum))"
   ]
  },
  {
   "cell_type": "markdown",
   "metadata": {},
   "source": [
    "### Expand, Scaffold and Test the Function\n",
    "\n",
    "Add code to the function little by little to build up to the full solution.  Using intermediate variables and `print` statements can help you check that each bit that you add is working as you expect before you add more."
   ]
  },
  {
   "cell_type": "markdown",
   "metadata": {},
   "source": [
    "#### Iteration \\#1:\n",
    "\n",
    "It is not necessary to write the whole function at once.  Particularly, if you are unsure how to accomplish the full task, just start with something small that is going in the right direction.  Check if that does what you expect. Then add and modify until it does what it is supposed to do. Be sure to build it up slowly checking at each point that it does what you expect.\n",
    "\n",
    "Here I just added the idea that there will need to be a variable to keep the `total`, that `num` will start at `low` and be repeatedly added to the total.  For now, I've decided not to worry about trying to get the loop right.  I just wanted to check that this stuff is right.  Because if it isn't right then the loop certainly won't be right."
   ]
  },
  {
   "cell_type": "code",
   "execution_count": null,
   "metadata": {},
   "outputs": [],
   "source": [
    "def range_sum(low, high):\n",
    "    print(\"low=\" + str(low) + \" high=\" + str(high))\n",
    "    \n",
    "    total = 0\n",
    "    num = low\n",
    "    # will need a loop to go through the range...\n",
    "    \n",
    "    total = total + num\n",
    "    \n",
    "    print(total)\n",
    "    return total\n",
    "\n",
    "# Main program below\n",
    "\n",
    "low = int(input(\"Enter the low value: \"))\n",
    "high = int(input(\"Enter the high value: \"))\n",
    "\n",
    "sum = range_sum(low, high)\n",
    "\n",
    "print(\"The sum from \" + str(low) + \" to \" + str(high) + \" is \" + str(sum))"
   ]
  },
  {
   "cell_type": "markdown",
   "metadata": {},
   "source": [
    "#### Iteration \\#2\n",
    "\n",
    "Now that the above part is working, we need to have a go at the loop.  Here is a first attempt.  You would write this and then *hand test* it with an example or two where you know what the answer should be. Note that this version does not quite work yet (on purpose for the example).  Try it with the range 1 to 4."
   ]
  },
  {
   "cell_type": "code",
   "execution_count": null,
   "metadata": {},
   "outputs": [],
   "source": [
    "def range_sum(low, high):\n",
    "    print(\"low=\" + str(low) + \" high=\" + str(high))\n",
    "    \n",
    "    total = 0\n",
    "    num = low\n",
    "    \n",
    "    how_many_nums = (high-low)\n",
    "    for something in range(how_many_nums):\n",
    "       total = total + num\n",
    "    \n",
    "    print(total)\n",
    "    return total\n",
    "\n",
    "# Main program below\n",
    "\n",
    "low = int(input(\"Enter the low value: \"))\n",
    "high = int(input(\"Enter the high value: \"))\n",
    "\n",
    "sum = range_sum(low, high)\n",
    "\n",
    "print(\"The sum from \" + str(low) + \" to \" + str(high) + \" is \" + str(sum))"
   ]
  },
  {
   "cell_type": "markdown",
   "metadata": {},
   "source": [
    "### Iteration \\#3\n",
    "\n",
    "Hummm.... the code we just added didn't quite work correctly, so we know it's something to do with the loop and not a problem anywhere else. In this small example you may be able to immediately see the fix.  But, remember these exercises are about developing a skill, not about getting this program to work.  The skill you develop will help you later when you encounter situations where it is much harder to just see the solution.  \n",
    "\n",
    "So, instead of just staring at the code until we are hit with a flash of inspiration we will add some more *scaffolding* to the program.  That scaffolding will provide additional information that will help us understand what's happening and devise a fix for our problem.\n",
    "\n",
    "When running the version below with the added scaffolding, it becomes apparent that `num` is not changing and we are simply adding `low` each time.  That's a pretty easy fix!"
   ]
  },
  {
   "cell_type": "code",
   "execution_count": null,
   "metadata": {},
   "outputs": [],
   "source": [
    "def range_sum(low, high):\n",
    "    print(\"low=\" + str(low) + \" high=\" + str(high))\n",
    "    \n",
    "    total = 0\n",
    "    num = low\n",
    "    \n",
    "    how_many_nums = (high-low)\n",
    "    for something in range(how_many_nums):\n",
    "       print(\"num=\" + str(num) + \" total=\" + str(total))\n",
    "       total = total + num\n",
    "    \n",
    "    print(total)\n",
    "    return total\n",
    "\n",
    "# Main program below\n",
    "\n",
    "low = int(input(\"Enter the low value: \"))\n",
    "high = int(input(\"Enter the high value: \"))\n",
    "\n",
    "sum = range_sum(low, high)\n",
    "\n",
    "print(\"The sum from \" + str(low) + \" to \" + str(high) + \" is \" + str(sum))"
   ]
  },
  {
   "cell_type": "markdown",
   "metadata": {},
   "source": [
    "#### Iteration \\#4\n",
    "\n",
    "So now `num` is incrementing each time through the loop.  But when we run it we still don't get the right answer.  Luckily the scaffolding we have already written will give us the information that we need.  Look at the values for `num`.  Is `high` ever being added in to the `total`?"
   ]
  },
  {
   "cell_type": "code",
   "execution_count": null,
   "metadata": {},
   "outputs": [],
   "source": [
    "def range_sum(low, high):\n",
    "    print(\"low=\" + str(low) + \" high=\" + str(high))\n",
    "    \n",
    "    total = 0\n",
    "    num = low\n",
    "    \n",
    "    how_many_nums = (high-low)\n",
    "    for something in range(how_many_nums):\n",
    "       print(\"num=\" + str(num) + \" total=\" + str(total))\n",
    "       total = total + num\n",
    "       num = num + 1\n",
    "    \n",
    "    print(total)\n",
    "    return total\n",
    "\n",
    "# Main program below\n",
    "\n",
    "low = int(input(\"Enter the low value: \"))\n",
    "high = int(input(\"Enter the high value: \"))\n",
    "\n",
    "sum = range_sum(low, high)\n",
    "\n",
    "print(\"The sum from \" + str(low) + \" to \" + str(high) + \" is \" + str(sum))"
   ]
  },
  {
   "cell_type": "markdown",
   "metadata": {},
   "source": [
    "#### Iteration \\#5\n",
    "\n",
    "Because `high` was not being added into the total we need to make sure that it is added in.  There are a number of ways to do that:\n",
    "- add it in before the loop (`total=high` instead of `total=0`)\n",
    "- add it in after the loop (`total = total + high` before `return`)\n",
    "- `return total + high`\n",
    "- `how_many_nums = (high-low) + 1`  - Winner!!"
   ]
  },
  {
   "cell_type": "code",
   "execution_count": null,
   "metadata": {},
   "outputs": [],
   "source": [
    "def range_sum(low, high):\n",
    "    print(\"low=\" + str(low) + \" high=\" + str(high))\n",
    "    \n",
    "    total = 0\n",
    "    num = low\n",
    "    \n",
    "    how_many_nums = (high-low) + 1\n",
    "    for something in range(how_many_nums):\n",
    "       print(\"num=\" + str(num) + \" total=\" + str(total))\n",
    "       total = total + num\n",
    "       num = num + 1\n",
    "    \n",
    "    print(total)\n",
    "    return total\n",
    "\n",
    "# Main program below\n",
    "\n",
    "low = int(input(\"Enter the low value: \"))\n",
    "high = int(input(\"Enter the high value: \"))\n",
    "\n",
    "sum = range_sum(low, high)\n",
    "\n",
    "print(\"The sum from \" + str(low) + \" to \" + str(high) + \" is \" + str(sum))"
   ]
  },
  {
   "cell_type": "markdown",
   "metadata": {},
   "source": [
    "![Stop sign](stop.png)\n",
    "End of Class 19 material."
   ]
  },
  {
   "cell_type": "markdown",
   "metadata": {},
   "source": [
    "### Create Automated Tests for the Function\n",
    "\n",
    "We know it works correctly now. At least it does for the case we tried.  We should probably try more cases, but also we are eventually we are going to refactor the code.  This means we'll be changing the code to improve it. However, any of those changes could introduce an new bug.  So we really should re-test after every single change we make.  That sounds seriously tedious and un-fun!  The solution is to write a few automated tests that we can just run over and over again after each change."
   ]
  },
  {
   "cell_type": "code",
   "execution_count": null,
   "metadata": {},
   "outputs": [],
   "source": [
    "def range_sum(low, high):\n",
    "    print(\"low=\" + str(low) + \" high=\" + str(high))\n",
    "    \n",
    "    total = 0\n",
    "    num = low\n",
    "    \n",
    "    how_many_nums = (high-low) + 1\n",
    "    for something in range(how_many_nums):\n",
    "       print(\"num=\" + str(num) + \" total=\" + str(total))\n",
    "       total = total + num\n",
    "       num = num + 1\n",
    "    \n",
    "    print(total)\n",
    "    return total"
   ]
  },
  {
   "cell_type": "markdown",
   "metadata": {},
   "source": [
    "The Python `assert` statement allows us to write automated tests that are easy to re-run over and over again without typing in values.  If the *condition* in the `assert` statement is `True` then test *passes* and the *message* is not displayed."
   ]
  },
  {
   "cell_type": "code",
   "execution_count": null,
   "metadata": {},
   "outputs": [],
   "source": [
    "assert range_sum(1,4)==10, '1...4 is incorrect'\n",
    "print('Success!')"
   ]
  },
  {
   "cell_type": "markdown",
   "metadata": {},
   "source": [
    "#### Failed Tests\n",
    "\n",
    "If the *condition* in the `assert` statement is `False` then the test *fails*.  When a test fails a *stack trace* is generated and the *message* is displayed.  The test below intentionally contains a mistake so that we can see what a failed test looks like.  Notice that `Success` is not printed.  The execution is terminated as soon as the test fails."
   ]
  },
  {
   "cell_type": "code",
   "execution_count": null,
   "metadata": {},
   "outputs": [],
   "source": [
    "assert range_sum(1,5)==5, 'This test has a mistake in it!'\n",
    "print('Success!')"
   ]
  },
  {
   "cell_type": "markdown",
   "metadata": {},
   "source": [
    "#### Multiple Tests\n",
    "\n",
    "It is common to write multiple tests for a function that test different aspects of the function.  For example here we should be sure to test a range that does not start at 1.  We might also want to test ranges that include 0 and possibly negative numbers as well.  When running multiple tests, the printing done by the scaffolding can become too much.  So it is common to *comment out* the scaffolding at this point."
   ]
  },
  {
   "cell_type": "code",
   "execution_count": null,
   "metadata": {},
   "outputs": [],
   "source": [
    "def range_sum(low, high):\n",
    "    # print(\"low=\" + str(low) + \" high=\" + str(high))\n",
    "    \n",
    "    total = 0\n",
    "    num = low\n",
    "    \n",
    "    how_many_nums = (high-low) + 1\n",
    "    for something in range(how_many_nums):\n",
    "       #print(\"num=\" + str(num) + \" total=\" + str(total))\n",
    "       total = total + num\n",
    "       num = num + 1\n",
    "    \n",
    "    #print(total)\n",
    "    return total"
   ]
  },
  {
   "cell_type": "code",
   "execution_count": 4,
   "metadata": {},
   "outputs": [
    {
     "name": "stdout",
     "output_type": "stream",
     "text": [
      "Success!\n"
     ]
    }
   ],
   "source": [
    "assert range_sum(1,4)==10, '1...4 is incorrect'\n",
    "assert range_sum(2,5)==14, '2...5 is incorrect'\n",
    "assert range_sum(0,4)==10, '0...4 is incorrect'\n",
    "assert range_sum(-3,5)==9, '-3...5 is incorrect'\n",
    "print('Success!')"
   ]
  },
  {
   "cell_type": "markdown",
   "metadata": {},
   "source": [
    "### Adding Guardians"
   ]
  },
  {
   "cell_type": "markdown",
   "metadata": {},
   "source": [
    "Sometimes there are conditions under which a function cannot properly carry out its operation.  For the `range_sum` function this includes:\n",
    "- if `low` is bigger than `high` the function will not work.\n",
    "- if `low` or `high` are not integer values it will not work.\n",
    "\n",
    "The `assert` statement provides a way for a function to communicate that it has been passed values on which it cannot operate."
   ]
  },
  {
   "cell_type": "code",
   "execution_count": null,
   "metadata": {},
   "outputs": [],
   "source": [
    "def range_sum(low, high):\n",
    "    # print(\"low=\" + str(low) + \" high=\" + str(high))\n",
    "    assert isinstance(low, int), 'low must be an int'\n",
    "    assert isinstance(high, int), 'high must be an int'\n",
    "    assert low<high, 'low must be less than high'\n",
    "    \n",
    "    total = 0\n",
    "    num = low\n",
    "    \n",
    "    how_many_nums = (high-low) + 1\n",
    "    for something in range(how_many_nums):\n",
    "       #print(\"num=\" + str(num) + \" total=\" + str(total))\n",
    "       total = total + num\n",
    "       num = num + 1\n",
    "\n",
    "    #print(total)\n",
    "    return total"
   ]
  },
  {
   "cell_type": "code",
   "execution_count": null,
   "metadata": {},
   "outputs": [],
   "source": [
    "print(range_sum(5,3))"
   ]
  },
  {
   "cell_type": "code",
   "execution_count": null,
   "metadata": {},
   "outputs": [],
   "source": [
    "print(range_sum('1',5))"
   ]
  },
  {
   "cell_type": "code",
   "execution_count": null,
   "metadata": {},
   "outputs": [],
   "source": [
    "print(range_sum(1,'5'))"
   ]
  },
  {
   "cell_type": "markdown",
   "metadata": {},
   "source": [
    "In big programs or in situations where other programmers are calling functions you have written *guardians* can help them catch mistakes that they have made.  "
   ]
  },
  {
   "cell_type": "markdown",
   "metadata": {},
   "source": [
    "### Refactor:\n",
    "\n",
    "Now that we have a working and fully tested function we can move on to the refactoring.  Below is a refactoring that improves the readability of the program.  It:\n",
    "- Removes the scaffolding that is no longer needed.\n",
    "- renames `total` to `sum` to agree with the function name.\n",
    "- renames `how_many_nums` to `num_count` because it is more concise.\n",
    "- The loop variable `something` is not good so it also:\n",
    "  - renames loop variable to `num` because that's what we are looping over.\n",
    "  - renames `num` to `cur_num` because that is more descriptive and eliminates conflict with the loop variable.\n",
    "  \n",
    "As you are refactoring it is a good idea to re-run the automated tests after each change so that you know you have not made a mistake.  This is the real value in writing those automated tests!!!"
   ]
  },
  {
   "cell_type": "code",
   "execution_count": 1,
   "metadata": {},
   "outputs": [
    {
     "name": "stdout",
     "output_type": "stream",
     "text": [
      "Enter the low value: 3\n",
      "Enter the high value: 7\n",
      "The sum from 3 to 7 is 25\n"
     ]
    }
   ],
   "source": [
    "def range_sum(low, high):\n",
    "    \"\"\"Compute the sum of all integers from low to high, inclusive.\n",
    "    low and high must be integers and low > high\n",
    "    \"\"\"\n",
    "    assert isinstance(low, int), 'low must be an int'\n",
    "    assert isinstance(high, int), 'high must be an int'\n",
    "    assert low<high, 'low must be less than high'\n",
    "    \n",
    "    sum = 0\n",
    "    cur_num = low\n",
    "    \n",
    "    num_count = (high-low) + 1\n",
    "    for num in range(num_count):\n",
    "       sum = sum + cur_num\n",
    "       cur_num = cur_num + 1\n",
    "\n",
    "    return sum\n",
    "\n",
    "# Main program below\n",
    "\n",
    "low = int(input(\"Enter the low value: \"))\n",
    "high = int(input(\"Enter the high value: \"))\n",
    "\n",
    "sum = range_sum(low, high)\n",
    "\n",
    "print(\"The sum from \" + str(low) + \" to \" + str(high) + \" is \" + str(sum))"
   ]
  },
  {
   "cell_type": "code",
   "execution_count": 2,
   "metadata": {},
   "outputs": [
    {
     "name": "stdout",
     "output_type": "stream",
     "text": [
      "Success!\n"
     ]
    }
   ],
   "source": [
    "assert range_sum(1,4)==10, '1...4 is incorrect'\n",
    "assert range_sum(2,5)==14, '2...5 is incorrect'\n",
    "assert range_sum(0,4)==10, '0...4 is incorrect'\n",
    "assert range_sum(-3,2)==-3, '-3...2 is incorrect'\n",
    "print('Success!')"
   ]
  }
 ],
 "metadata": {
  "kernelspec": {
   "display_name": "Python 3",
   "language": "python",
   "name": "python3"
  },
  "language_info": {
   "codemirror_mode": {
    "name": "ipython",
    "version": 3
   },
   "file_extension": ".py",
   "mimetype": "text/x-python",
   "name": "python",
   "nbconvert_exporter": "python",
   "pygments_lexer": "ipython3",
   "version": "3.7.3"
  }
 },
 "nbformat": 4,
 "nbformat_minor": 2
}
